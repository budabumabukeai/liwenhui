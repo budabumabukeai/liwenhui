{
 "cells": [
  {
   "cell_type": "code",
   "execution_count": 2,
   "metadata": {},
   "outputs": [
    {
     "name": "stdout",
     "output_type": "stream",
     "text": [
      "请输入邮件地址：\n",
      "输入1733226507\n",
      "邮件地址 1733226507 @163.com\n",
      "请输入密码：\n",
      "输入2341\n",
      "请再次输入密码:\n",
      "输入2341\n",
      "密码设置成功\n",
      "请输入验证码： 1725\n",
      "输入1725\n",
      "验证通过\n"
     ]
    },
    {
     "ename": "AttributeError",
     "evalue": "'email' object has no attribute 'duanxin'",
     "output_type": "error",
     "traceback": [
      "\u001b[1;31m---------------------------------------------------------------------------\u001b[0m",
      "\u001b[1;31mAttributeError\u001b[0m                            Traceback (most recent call last)",
      "\u001b[1;32m<ipython-input-2-db456741571d>\u001b[0m in \u001b[0;36m<module>\u001b[1;34m\u001b[0m\n\u001b[0;32m     33\u001b[0m \u001b[0msyx\u001b[0m\u001b[1;33m.\u001b[0m\u001b[0mzhuce\u001b[0m\u001b[1;33m(\u001b[0m\u001b[1;33m)\u001b[0m\u001b[1;33m\u001b[0m\u001b[1;33m\u001b[0m\u001b[0m\n\u001b[0;32m     34\u001b[0m \u001b[0msyx\u001b[0m\u001b[1;33m.\u001b[0m\u001b[0mpassword\u001b[0m\u001b[1;33m(\u001b[0m\u001b[1;33m)\u001b[0m\u001b[1;33m\u001b[0m\u001b[1;33m\u001b[0m\u001b[0m\n\u001b[1;32m---> 35\u001b[1;33m \u001b[0msyx\u001b[0m\u001b[1;33m.\u001b[0m\u001b[0myanzhengma\u001b[0m\u001b[1;33m(\u001b[0m\u001b[1;33m)\u001b[0m\u001b[1;33m\u001b[0m\u001b[1;33m\u001b[0m\u001b[0m\n\u001b[0m",
      "\u001b[1;32m<ipython-input-2-db456741571d>\u001b[0m in \u001b[0;36myanzhengma\u001b[1;34m(self)\u001b[0m\n\u001b[0;32m     26\u001b[0m             \u001b[1;32mif\u001b[0m \u001b[0myanzhengma_1\u001b[0m\u001b[1;33m==\u001b[0m\u001b[0myanzhengma_2\u001b[0m\u001b[1;33m:\u001b[0m\u001b[1;33m\u001b[0m\u001b[1;33m\u001b[0m\u001b[0m\n\u001b[0;32m     27\u001b[0m                 \u001b[0mprint\u001b[0m\u001b[1;33m(\u001b[0m\u001b[1;34m\"验证通过\"\u001b[0m\u001b[1;33m)\u001b[0m\u001b[1;33m\u001b[0m\u001b[1;33m\u001b[0m\u001b[0m\n\u001b[1;32m---> 28\u001b[1;33m                 \u001b[0mself\u001b[0m\u001b[1;33m.\u001b[0m\u001b[0mduanxin\u001b[0m\u001b[1;33m(\u001b[0m\u001b[1;33m)\u001b[0m\u001b[1;33m\u001b[0m\u001b[1;33m\u001b[0m\u001b[0m\n\u001b[0m\u001b[0;32m     29\u001b[0m                 \u001b[1;32mbreak\u001b[0m\u001b[1;33m\u001b[0m\u001b[1;33m\u001b[0m\u001b[0m\n\u001b[0;32m     30\u001b[0m             \u001b[1;32melse\u001b[0m\u001b[1;33m:\u001b[0m\u001b[1;33m\u001b[0m\u001b[1;33m\u001b[0m\u001b[0m\n",
      "\u001b[1;31mAttributeError\u001b[0m: 'email' object has no attribute 'duanxin'"
     ]
    }
   ],
   "source": [
    "import random\n",
    "class email(object):\n",
    "    def __init__(self):\n",
    "        pass\n",
    "    def zhuce(self):\n",
    "        print(\"请输入邮件地址：\")\n",
    "        res = input('输入')\n",
    "        print(\"邮件地址\",res,\"@163.com\")\n",
    "    def password(self):\n",
    "        print(\"请输入密码：\")\n",
    "        self.mima = input('输入')\n",
    "        print(\"请再次输入密码:\")\n",
    "        self.querenmima = input('输入')\n",
    "        if self.mima == self.querenmima:\n",
    "            print(\"密码设置成功\")\n",
    "        else:\n",
    "            print(\"密码输入错误，请重新设置密码\")\n",
    "            self.password()\n",
    "    def yanzhengma(self):\n",
    "        for i in range(1,5):\n",
    "            if i == 4:\n",
    "                exit(0)\n",
    "            yanzhengma_1=random.randrange(1000,9999)\n",
    "            print(\"请输入验证码：\",yanzhengma_1)\n",
    "            yanzhengma_2=int(input(\"输入\"))\n",
    "            if yanzhengma_1==yanzhengma_2:\n",
    "                print(\"验证通过\")\n",
    "                self.duanxin()\n",
    "                break\n",
    "            else:\n",
    "                pass\n",
    "syx=email()\n",
    "syx.zhuce()\n",
    "syx.password()\n",
    "syx.yanzhengma()"
   ]
  },
  {
   "cell_type": "code",
   "execution_count": 4,
   "metadata": {},
   "outputs": [
    {
     "name": "stdout",
     "output_type": "stream",
     "text": [
      "142\n"
     ]
    }
   ],
   "source": [
    "class Number(object):\n",
    "    def __init__(self,num1,num2,num3):\n",
    "        self.__num1=num1\n",
    "        self.__num2=num2\n",
    "        self.__num3=num3\n",
    "    @property\n",
    "    def num1(self):\n",
    "        print(self.__num1)\n",
    "    @num1.setter\n",
    "    def num1(self,num):\n",
    "        self.__num1=num\n",
    "    def SUM(self):\n",
    "        print(self.__num1+self.__num2+self.__num3)\n",
    "number=Number(34,43,65)\n",
    "number.SUM()"
   ]
  },
  {
   "cell_type": "code",
   "execution_count": 5,
   "metadata": {},
   "outputs": [
    {
     "name": "stdout",
     "output_type": "stream",
     "text": [
      "请输入宽：64\n",
      "请输入高：34\n",
      "宽是：64.00,高是：34.00\n",
      "面积是：2176.0000\n",
      "周长是：196.0000\n"
     ]
    }
   ],
   "source": [
    "import math\n",
    "class Rectangle(object):\n",
    "    def __init__(self,width,height):\n",
    "        self.width=width\n",
    "        self.height=height\n",
    "        print('宽是：%.2f,高是：%.2f'% (width,height))\n",
    "    def getArea(self):\n",
    "        return self.width*self.height\n",
    "    def getPerimeter(self):\n",
    "        \n",
    "        return 2*(self.width+self.height)\n",
    "if __name__ == \"__main__\":\n",
    "    width=float(input('请输入宽：'))\n",
    "    height=float(input('请输入高：'))\n",
    "    r=Rectangle(width,height)\n",
    "    print('面积是：%.4f'% r.getArea())\n",
    "    print('周长是：%.4f'% r.getPerimeter())"
   ]
  },
  {
   "cell_type": "code",
   "execution_count": null,
   "metadata": {},
   "outputs": [],
   "source": []
  }
 ],
 "metadata": {
  "kernelspec": {
   "display_name": "Python 3",
   "language": "python",
   "name": "python3"
  },
  "language_info": {
   "codemirror_mode": {
    "name": "ipython",
    "version": 3
   },
   "file_extension": ".py",
   "mimetype": "text/x-python",
   "name": "python",
   "nbconvert_exporter": "python",
   "pygments_lexer": "ipython3",
   "version": "3.7.3"
  }
 },
 "nbformat": 4,
 "nbformat_minor": 2
}
