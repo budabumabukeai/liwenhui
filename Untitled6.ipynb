{
 "cells": [
  {
   "cell_type": "code",
   "execution_count": 1,
   "metadata": {},
   "outputs": [
    {
     "name": "stdout",
     "output_type": "stream",
     "text": [
      "请输入一个数：6\n",
      "\n",
      "1 5 12 22 35 "
     ]
    }
   ],
   "source": [
    "def getPentagona(n):\n",
    "    a=0\n",
    "    c=0    \n",
    "    for i in range(1,n,1):\n",
    "        a=int(i*(3*i-1)/2)      \n",
    "        if c%10==0:\n",
    "            print()\n",
    "        print(a,end=\" \")\n",
    "        c+=1\n",
    "n=int(input('请输入一个数：'))\n",
    "getPentagona(n)"
   ]
  },
  {
   "cell_type": "code",
   "execution_count": 2,
   "metadata": {},
   "outputs": [
    {
     "name": "stdout",
     "output_type": "stream",
     "text": [
      "输入一个数：768\n"
     ]
    },
    {
     "data": {
      "text/plain": [
       "21"
      ]
     },
     "execution_count": 2,
     "metadata": {},
     "output_type": "execute_result"
    }
   ],
   "source": [
    "def sumDigits(n):\n",
    "    g=n%10\n",
    "    s=n//10%10\n",
    "    b=n//100\n",
    "    sum=g+s+b\n",
    "    return sum\n",
    "n=int(input('输入一个数：'))\n",
    "sumDigits(n)\n"
   ]
  },
  {
   "cell_type": "code",
   "execution_count": 19,
   "metadata": {},
   "outputs": [
    {
     "name": "stdout",
     "output_type": "stream",
     "text": [
      "Enter three numbers:4,6,5\n"
     ]
    },
    {
     "data": {
      "text/plain": [
       "(4.0, 5.0, 6.0)"
      ]
     },
     "execution_count": 19,
     "metadata": {},
     "output_type": "execute_result"
    }
   ],
   "source": [
    "def displaySortedNumbers(num1,num2,num3):\n",
    "    if num1>num2:\n",
    "        num1,num2=num2,num1\n",
    "    if num2>num3:\n",
    "        num2,num3=num3,num2\n",
    "    if num1>num2:\n",
    "        num1,num2=num2,num1\n",
    "    return num1,num2,num3\n",
    "num1,num2,num3=map(float,input('Enter three numbers:').split(','))\n",
    "displaySortedNumbers(num1,num2,num3)"
   ]
  },
  {
   "cell_type": "code",
   "execution_count": 25,
   "metadata": {},
   "outputs": [
    {
     "name": "stdout",
     "output_type": "stream",
     "text": [
      "本金是：1000\n",
      "年利率是：2\n",
      "每年的计息周期数是：12\n",
      "存款年限：50\n",
      "1   6358.60\n",
      "2   40431.79\n",
      "3   257089.55\n",
      "4   1634729.51\n",
      "5   10394590.33\n",
      "6   66095037.51\n",
      "7   420271876.35\n",
      "8   2672340567.51\n",
      "9   16992343553.17\n",
      "10   108047508217.86\n",
      "11   687030838069.00\n",
      "12   4368553983734.97\n",
      "13   27777885432982.70\n",
      "14   176628450054818.94\n",
      "15   1123109584566306.88\n",
      "16   7141404108756082.00\n",
      "17   45409329014186944.00\n",
      "18   288739739428896320.00\n",
      "19   1835980379701712384.00\n",
      "20   11674264032089450496.00\n",
      "21   74231970122186113024.00\n",
      "22   472011372457787981824.00\n",
      "23   3001331304595091095552.00\n",
      "24   19084263908806680903680.00\n",
      "25   121349192067990174040064.00\n",
      "26   771610919127912502263808.00\n",
      "27   4906364849828068105125888.00\n",
      "28   31197609368767665771905024.00\n",
      "29   198373105163658390711304192.00\n",
      "30   1261375138944702368865845248.00\n",
      "31   8020579401805159825670144000.00\n",
      "32   50999652644558253833259581440.00\n",
      "33   324286368797771425812047724544.00\n",
      "34   2062007161518680749388087689216.00\n",
      "35   13111477827197359025143171514368.00\n",
      "36   83370637125466946649927425458176.00\n",
      "37   530120496431638571785860075749376.00\n",
      "38   3370823954649644806982604393807872.00\n",
      "39   21433719710373633196651319788568576.00\n",
      "40   136288440690937444221047102463016960.00\n",
      "41   866603618828576134352018044713172992.00\n",
      "42   5510385388221131529820216468594229248.00\n",
      "43   35038334097618580306046146431982501888.00\n",
      "44   222794735729484646789488754730622517248.00\n",
      "45   1416662508282452257194656866233011404800.00\n",
      "46   9007989599942471156804608721746202198016.00\n",
      "47   57278198694655762742988428615292324675584.00\n",
      "48   364209128940981242745602527923332347592704.00\n",
      "49   2315860006545995027809214484386057707061248.00\n",
      "50   14725626415553971874743590651228115081101312.00\n"
     ]
    }
   ],
   "source": [
    "def future_value(present_value,annual_rate,  periods_per_year,  years):\n",
    "    \n",
    "    for i in range(1,years+1):\n",
    "        rate_per_period = annual_rate / periods_per_year\n",
    "        periods = periods_per_year * i\n",
    "        print('%d   %.2f'% (i,present_value*((1+rate_per_period)**periods))) \n",
    "present_value=int(input('本金是：'))\n",
    "annual_rate=float(input('年利率是：'))\n",
    "periods_per_year=int(input('每年的计息周期数是：'))\n",
    "years=int(input('存款年限：'))\n",
    "future_value(present_value,annual_rate,  periods_per_year,  years)"
   ]
  },
  {
   "cell_type": "code",
   "execution_count": 13,
   "metadata": {},
   "outputs": [
    {
     "name": "stdout",
     "output_type": "stream",
     "text": [
      "请输入第一字符：8\n",
      "请输入第二字符：5\n",
      "请输入每行打印的个数：3\n"
     ]
    }
   ],
   "source": [
    "def printchars(ch1,ch2,n):\n",
    "    count=0\n",
    "    for i in range(ord(ch1),ord(ch2)+1):\n",
    "        print(chr(i),end=\" \")\n",
    "        count += 1\n",
    "        if count % n == 0:\n",
    "            print()\n",
    "ch1=input('请输入第一字符：')\n",
    "ch2=input('请输入第二字符：')\n",
    "n=int(input('请输入每行打印的个数：'))\n",
    "printchars(ch1,ch2,n)"
   ]
  },
  {
   "cell_type": "code",
   "execution_count": 24,
   "metadata": {},
   "outputs": [
    {
     "name": "stdout",
     "output_type": "stream",
     "text": [
      "2010年有365天\n",
      "2011年有365天\n",
      "2012年有366天\n",
      "2013年有365天\n",
      "2014年有365天\n",
      "2015年有365天\n",
      "2016年有366天\n",
      "2017年有365天\n",
      "2018年有365天\n",
      "2019年有365天\n",
      "2020年有366天\n"
     ]
    }
   ],
   "source": [
    "def numberOfDayInYear():\n",
    "    c=31+28+31+30+31+30+31+31+30+31+30+31\n",
    "    for year in range(2010,2021,1): \n",
    "        i=year\n",
    "        if year % 4 == 0 and  year % 100 != 0 or year % 400 == 0:\n",
    "            print('%d年有%d天'%(i,c+1)) \n",
    "        else:\n",
    "            print ('%d年有%d天'%(i,c))  \n",
    "numberOfDayInYear()"
   ]
  },
  {
   "cell_type": "code",
   "execution_count": 23,
   "metadata": {},
   "outputs": [
    {
     "name": "stdout",
     "output_type": "stream",
     "text": [
      "本地时间为 : Fri Aug  9 20:10:09 2019\n"
     ]
    }
   ],
   "source": [
    "import time\n",
    "localtime = time.asctime(time.localtime(time.time()))\n",
    "print(\"本地时间为 :\", localtime)"
   ]
  },
  {
   "cell_type": "code",
   "execution_count": 16,
   "metadata": {},
   "outputs": [
    {
     "name": "stdout",
     "output_type": "stream",
     "text": [
      "5 + 1 = 6\n"
     ]
    }
   ],
   "source": [
    "import random\n",
    "def shaizi():\n",
    "      a=random.choice([1,2,3,4,5,6])\n",
    "      b=random.choice([1,2,3,4,5,6])\n",
    "      if a+b==2 or  a+b==3 or a+b==12:\n",
    "            print('%d + %d = %d' %(a,b,a+b))\n",
    "            print('你输了')\n",
    "      elif a+b==7 or a+b==11:\n",
    "            print('%d + %d = %d' %(a,b,a+b))\n",
    "            print('你赢了')\n",
    "      else:\n",
    "            print('%d + %d = %d' %(a,b,a+b))\n",
    "            c=random.choice([1,2,3,4,5,6])\n",
    "            d=random.choice([1,2,3,4,5,6])\n",
    "            if c+d==7:\n",
    "                  print('%d + %d = %d' %(c,d,c+d))\n",
    "                  print('你输了')\n",
    "            elif c+d==a+b:\n",
    "                  print('%d + %d = %d' %(c,d,c+d))\n",
    "                  print('你赢了')\n",
    "shaizi()"
   ]
  },
  {
   "cell_type": "code",
   "execution_count": 18,
   "metadata": {},
   "outputs": [],
   "source": [
    "import smtplib\n",
    "from email.mime.text import MIMEText\n",
    "from email.utils import formataddr\n",
    "\n",
    "#发送邮件功能\n",
    "def send_mail(send_message_txt,*senders_list,**send_to_people):\n",
    "  flag = True\n",
    "  try:\n",
    "    #编写发送的内容\n",
    "    send_msg = MIMEText(send_message_txt,\"plain\",\"utf-8\")\n",
    "    send_msg[\"From\"] = formataddr([\"发送人姓名\",\"邮箱账号\"])\n",
    "    #f发送人的名单\n",
    "    for sender_name,mail_address in send_to_people.items():\n",
    "      send_msg[\"To\"] = formataddr([sender_name,mail_address])\n",
    "    else:\n",
    "      print(\"添加所有发送人\")\n",
    "    send_msg[\"Subject\"] = \"出现异常的sqlmap文件内容\"\n",
    "    #登录邮箱服务器\n",
    "    send_server = smtplib.SMTP(\"smtp.126.com\",25)\n",
    "    send_server.login(\"登录邮箱账号\",\"邮箱密码\")\n",
    "    #发送邮件\n",
    "    send_server.sendmail(\"zqgcy0808@126.com\",senders_list,send_msg.as_string())\n",
    "    send_server.quit()\n",
    "  except Exception as e:\n",
    "    print(e)\n",
    "    flag = False\n",
    "  return flag"
   ]
  },
  {
   "cell_type": "code",
   "execution_count": null,
   "metadata": {},
   "outputs": [],
   "source": []
  }
 ],
 "metadata": {
  "kernelspec": {
   "display_name": "Python 3",
   "language": "python",
   "name": "python3"
  },
  "language_info": {
   "codemirror_mode": {
    "name": "ipython",
    "version": 3
   },
   "file_extension": ".py",
   "mimetype": "text/x-python",
   "name": "python",
   "nbconvert_exporter": "python",
   "pygments_lexer": "ipython3",
   "version": "3.7.3"
  }
 },
 "nbformat": 4,
 "nbformat_minor": 2
}
