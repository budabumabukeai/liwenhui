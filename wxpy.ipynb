{
 "cells": [
  {
   "cell_type": "code",
   "execution_count": 1,
   "metadata": {},
   "outputs": [
    {
     "name": "stdout",
     "output_type": "stream",
     "text": [
      "█\r"
     ]
    },
    {
     "name": "stderr",
     "output_type": "stream",
     "text": [
      "Getting uuid of QR code.\n",
      "Downloading QR code.\n",
      "Please scan the QR code to log in.\n",
      "Please press confirm on your phone.\n",
      "Loading the contact, this may take a little while.\n",
      "Login successfully as liwen慧\n"
     ]
    }
   ],
   "source": [
    "# 导入模块\n",
    "from wxpy import *\n",
    "# 初始化机器人，扫码登陆\n",
    "bot = Bot()\n",
    "# 搜索名称含有 \"游否\" 的男性深圳好友\n",
    "my_friend = bot.friends()"
   ]
  },
  {
   "cell_type": "code",
   "execution_count": 2,
   "metadata": {},
   "outputs": [
    {
     "name": "stderr",
     "output_type": "stream",
     "text": [
      "Getting uuid of QR code.\n",
      "Downloading QR code.\n",
      "Please scan the QR code to log in.\n",
      "Please press confirm on your phone.\n",
      "LOG OUT!\n",
      "Loading the contact, this may take a little while.\n",
      "Login successfully as liwen慧\n"
     ]
    },
    {
     "name": "stdout",
     "output_type": "stream",
     "text": [
      "[<Friend: liwen慧>, <Friend: 图图>, <Friend: 简乐乐>, <Friend: 安晋东>, <Friend: 田聪林>, <Friend: 大姨>, <Friend: 霍林西山香网销部>, <Friend: 石漫宇>, <Friend: 闫学栋哥哥>, <Friend: 妈>, <Friend: 贺晓庭>, <Friend: 段国庆>, <Friend: 爸>, <Friend: 群主 宋佳乐  ་>, <Friend: 赵永祥>, <Friend: 乔峰>, <Friend: 王晓萌>, <Friend: 于海帆>, <Friend: 王勇哥哥>, <Friend: 赵飞>, <Friend: A 邢正如>, <Friend: 孙也>, <Friend: Cong>, <Friend: 云昊>, <Friend: 段佳康>, <Friend: 韩永强>, <Friend: 石磊>, <Friend: 路璐>, <Friend: 梦茹嫂子>, <Friend: 蓝教练>, <Friend: 云凤>, <Friend: 赵永强>, <Friend: 安晋东>, <Friend: 梦宇姐姐>, <Friend: A~周轩扬>, <Friend: 张娇娇 614 15848791990>, <Friend: 贺娜>, <Friend: 韩宏睿>, <Friend: 王影>, <Friend: 丛婷婷  611  15326705625>, <Friend: 伊晓静>, <Friend: 牛鑫宇>, <Friend: 代行强>, <Friend: 张玉杰>, <Friend: 李飞哥哥>, <Friend: 张龙宇>, <Friend: 郭志颍>, <Friend: 张佳彤>, <Friend: 史娇娇>, <Friend: 韵达>, <Friend: 周超>, <Friend: 范里奇奇>, <Friend: @小草姐姐 美瞳代发十店_->, <Friend: ☀>, <Friend: 高阳>, <Friend: 多丽雅>, <Friend: 秦聪妮>, <Friend: 王乐>, <Friend: 菜鸟驿站>, <Friend: 付宁>, <Friend: 沈八岁鞋子铺2号（可花呗)>, <Friend: 张老师>, <Friend: 田老师>, <Friend: 兰倩>, <Friend: 杨超老师>, <Friend: naz那子是做微胖大码自制女装的>, <Friend: 百信旅游  |  格日乐图>, <Friend: 璐璐>, <Friend: 卖美瞳>, <Friend: 六月🌟>, <Friend: 黄蓉>, <Friend: 田成>, <Friend: 李圆媛>, <Friend: 喵胖就是张桶桶>, <Friend: 刘静     605    15047647166>, <Friend: 聚文书店欢迎你>, <Friend: 谭聪💐蜕变2号>, <Friend: 段晓磊>, <Friend: 徐亭亭☞516☞17790793801>, <Friend: 付荣>, <Friend: 孙育新>, <Friend: 刘旭哲>, <Friend: 焦晨旭>, <Friend: 徐亭亭>, <Friend: 吴东>, <Friend: 一刻达快递代取>, <Friend: 梁云鹏>, <Friend: 鸭脖>, <Friend: 张丙全>, <Friend: 张志莉>, <Friend:  王丹>, <Friend: 小雏🇷🇺可花呗🌟推3人包邮>, <Friend: 小雏🇷🇺可花呗🌞推3人包邮>, <Friend: 杨洋珍珠饰品号>, <Friend: 戈小燕>, <Friend: 常磊>, <Friend: 刘璐>, <Friend: 张惠琳>, <Friend: 企业老师2号>, <Friend: 罗广锋>, <Friend: 冯小敏>, <Friend: AA怪力狒狒台灣購>, <Friend: 王宏博>, <Friend: 黄蓉>, <Friend: 李玉梅>, <Friend: 谭聪😋 （8号）满＋tancong011>, <Friend: 周昕>, <Friend: 计欣茹>, <Friend: 高鑫>, <Friend: 袁婷>, <Friend: 李玉梅>, <Friend: 赵雅婷>, <Friend: 范安荣老师>, <Friend: 王春宇>, <Friend: 云志>, <Friend: 董晓翠>, <Friend: 李茹>, <Friend: 刘婧>, <Friend: 刘逸超>, <Friend: 王雅茹>, <Friend: 宋丹>, <Friend: 乔宏>, <Friend: 汪涵>, <Friend: YM小可爱>, <Friend: 郝亮>, <Friend: 李秉哲>, <Friend: 酸辣苕粉>, <Friend: 花甲粉>, <Friend: 杜登云>, <Friend: 张志愿>, <Friend: 贾雨晴>, <Friend: 王永贤姐姐>, <Friend: 竺泽楠>, <Friend: 刘国栋>, <Friend: 白露>, <Friend: 侯文涵>, <Friend: 李俊>, <Friend: 张超>, <Friend: 何佳乐>, <Friend: 哎！的话>, <Friend: 张喜林>, <Friend: 于天奇>, <Friend: 魏涛>, <Friend: <span class=\"emoji emoji1f47f\"></span>冯慧茹>, <Friend: 乔磊磊>, <Friend:           嗦啦蜜。    💋   >, <Friend: 刘慧>, <Friend: 郭慧敏>, <Friend: 张思雨>, <Friend: 刘岚>, <Friend: 李颖超>, <Friend: 何梦茹>, <Friend: 张倩>, <Friend: 赵昀>, <Friend: 张丽芳>, <Friend: 王昌荣老师>, <Friend: 刘琳姐姐>, <Friend: 李东生>, <Friend: 金新华>, <Friend: 葛秀敏>, <Friend: 水果超市>, <Friend: 赵玮珂>, <Friend: 王若涵>, <Friend: 王若涵 小>, <Friend: 房琪kiki商务>, <Friend: 田聪林>, <Friend: 兰翔宇>, <Friend: 简单>, <Friend: 鹏对象>, <Friend: 。👑东。18748356370>, <Friend: 于洋>, <Friend: 石锐>, <Friend: 杨泽>, <Friend: 戈晓强>, <Friend: 胡芷璇>, <Friend: 我了个心呐>, <Friend: 胡旺>, <Friend: 这是一家女装店>, <Friend: 十月 (在线-）>, <Friend: 王老师>, <Friend: 曹同学🍓>, <Friend: 赵庆宇>, <Friend: 杨春泽>, <Friend: 宋达>, <Friend: 任晓鹏>, <Friend: 刘洋>, <Friend: 王小泽>, <Friend: 宋毅轩>, <Friend: 吕海涛>, <Friend: 闫庆瑜>, <Friend: 史迦媛>, <Friend: 王荣>, <Friend: 朱惠>, <Friend: 杨洋田螺家>, <Friend: 任凤仪>, <Friend: 姑姑>, <Friend: 王耀清>, <Friend: 小白>, <Friend: 娇娇>, <Friend: 阿楠 F.SOLO 形象设计顾问>, <Friend: 兰灵>, <Friend: 王华峰老师>, <Friend: 云琥>, <Friend: 张雅倩>, <Friend: Beloved>, <Friend: 王旭>, <Friend: 温守杰>, <Friend: 柠萌🏅[招上进代理]>, <Friend: 李莹>, <Friend: 大姑>, <Friend: 丛红艳>, <Friend: 三叔>, <Friend: 张芮>, <Friend: 曹丽媛>, <Friend: 张宇斐>, <Friend: 朵色Dvz'  🥺>, <Friend: 刘一帆>, <Friend: 郎海霞>, <Friend: 张颖   608   15391109331>, <Friend: 外语>, <Friend: 张世明>, <Friend: 脑残傻儿   赵宏杰>, <Friend: 宋娜>, <Friend: 邹存那>, <Friend: 永艳姨>, <Friend: 蓝天>]\n"
     ]
    },
    {
     "data": {
      "text/plain": [
       "↪ 图图 : 爱你 (Text)"
      ]
     },
     "execution_count": 2,
     "metadata": {},
     "output_type": "execute_result"
    }
   ],
   "source": [
    "from wxpy import *\n",
    "bot =Bot()\n",
    "my_friend = bot.friends()\n",
    "print(my_friend)\n",
    "my_friend = bot.friends().search('图图')[0]\n",
    "my_friend.send('爱你')\n"
   ]
  },
  {
   "cell_type": "code",
   "execution_count": 4,
   "metadata": {},
   "outputs": [],
   "source": [
    "@bot.register()\n",
    "def print_others(msg):\n",
    "    print(msg)"
   ]
  },
  {
   "cell_type": "code",
   "execution_count": 5,
   "metadata": {},
   "outputs": [
    {
     "name": "stdout",
     "output_type": "stream",
     "text": [
      "简乐乐 : 🐽 (Text)\n"
     ]
    }
   ],
   "source": [
    "@bot.register(my_friend)\n",
    "def reply_my_friend(msg):\n",
    "    return '别说话，吻我'.format(msg.text, msg.type)"
   ]
  },
  {
   "cell_type": "code",
   "execution_count": 6,
   "metadata": {},
   "outputs": [
    {
     "name": "stderr",
     "output_type": "stream",
     "text": [
      "Getting uuid of QR code.\n",
      "Downloading QR code.\n",
      "Please scan the QR code to log in.\n",
      "Please press confirm on your phone.\n",
      "LOG OUT!\n",
      "Loading the contact, this may take a little while.\n",
      "Login successfully as liwen慧\n"
     ]
    },
    {
     "name": "stdout",
     "output_type": "stream",
     "text": [
      "男性好友:40.44%\n",
      "女性好友:54.22%\n",
      "其他:5.33%\n"
     ]
    },
    {
     "name": "stderr",
     "output_type": "stream",
     "text": [
      "LOG OUT!\n"
     ]
    }
   ],
   "source": [
    "def get_friend_sex(friends):\n",
    "    male=female=other=0\n",
    "    for i in friends[1:]:\n",
    "        sex=i.sex\n",
    "        if sex==1:\n",
    "            male +=1\n",
    "        elif sex==2:\n",
    "            female +=1\n",
    "        else:\n",
    "            other +=1\n",
    "    return male,female,other\n",
    "bot=Bot(cache_path=True)\n",
    "bot.file_helper.send(\"hello world!\")\n",
    "friends=bot.friends()\n",
    "male,female,other=get_friend_sex(friends)\n",
    "total=len(friends[1:])\n",
    "print(\"男性好友:%.2f%%\" % (float(male) / total * 100))\n",
    "print(\"女性好友:%.2f%%\" % (float(female) / total * 100))\n",
    "print(\"其他:%.2f%%\" % (float(other) / total * 100))\n"
   ]
  },
  {
   "cell_type": "code",
   "execution_count": null,
   "metadata": {},
   "outputs": [],
   "source": []
  }
 ],
 "metadata": {
  "kernelspec": {
   "display_name": "Python 3",
   "language": "python",
   "name": "python3"
  },
  "language_info": {
   "codemirror_mode": {
    "name": "ipython",
    "version": 3
   },
   "file_extension": ".py",
   "mimetype": "text/x-python",
   "name": "python",
   "nbconvert_exporter": "python",
   "pygments_lexer": "ipython3",
   "version": "3.7.3"
  }
 },
 "nbformat": 4,
 "nbformat_minor": 2
}
